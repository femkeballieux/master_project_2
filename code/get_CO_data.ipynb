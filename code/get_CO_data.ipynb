{
 "cells": [
  {
   "cell_type": "code",
   "execution_count": 1,
   "metadata": {},
   "outputs": [],
   "source": [
    "import os"
   ]
  },
  {
   "cell_type": "code",
   "execution_count": 2,
   "metadata": {},
   "outputs": [
    {
     "name": "stdout",
     "output_type": "stream",
     "text": [
      "casa-20240412-091852.log\n",
      "G008.67_B6_spw2_12M_spw2.JvM.image.pbcor.statcont.contsub.fits\n",
      "G008.67_B6_spw5_12M_spw5.JvM.image.pbcor.statcont.contsub_ALMAIMF_CO21.fits\n",
      "G008.67_B6_spw6_12M_spw6.JvM.image.pbcor.statcont.contsub.fits\n",
      "G008.67_B6_spw7_12M_spw7.JvM.image.pbcor.statcont.contsub.fits\n",
      "member.uid___A001_X12a2_X23b._G008.6702-0.3557__sci.spw18.cube.I.pbcor_archive_CO32_res3.334.fits\n"
     ]
    },
    {
     "data": {
      "text/plain": [
       "0"
      ]
     },
     "execution_count": 2,
     "metadata": {},
     "output_type": "execute_result"
    }
   ],
   "source": [
    "path = '/net/vdesk/data2/bach1/ballieux/master_project_2/data/high_mass_data/G008.67'\n",
    "filename = 'G008.67_B6_spw5_12M_spw5.JvM.image.pbcor.statcont.contsub_ALMAIMF_CO21.fits'\n",
    "\n",
    "os.chdir(path)\n",
    "os.system('ls')"
   ]
  },
  {
   "cell_type": "code",
   "execution_count": 9,
   "metadata": {},
   "outputs": [
    {
     "name": "stdout",
     "output_type": "stream",
     "text": [
      "None\n"
     ]
    }
   ],
   "source": [
    "pathname = os.environ.get('CASAPATH')\n",
    "print(pathname)\n",
    "\n",
    "\"\"\"Okey this is not working, ask Wout later for help. For now, make M0 maps in carta manually. \"\"\""
   ]
  }
 ],
 "metadata": {
  "kernelspec": {
   "display_name": "Python 3",
   "language": "python",
   "name": "python3"
  },
  "language_info": {
   "codemirror_mode": {
    "name": "ipython",
    "version": 3
   },
   "file_extension": ".py",
   "mimetype": "text/x-python",
   "name": "python",
   "nbconvert_exporter": "python",
   "pygments_lexer": "ipython3",
   "version": "3.12.2"
  }
 },
 "nbformat": 4,
 "nbformat_minor": 2
}
